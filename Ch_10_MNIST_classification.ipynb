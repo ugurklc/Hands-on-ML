{
  "nbformat": 4,
  "nbformat_minor": 0,
  "metadata": {
    "colab": {
      "name": "Untitled17.ipynb",
      "provenance": [],
      "authorship_tag": "ABX9TyN4jSEJ38m6uAXHWHZgH3Kp",
      "include_colab_link": true
    },
    "kernelspec": {
      "name": "python3",
      "display_name": "Python 3"
    },
    "language_info": {
      "name": "python"
    }
  },
  "cells": [
    {
      "cell_type": "markdown",
      "metadata": {
        "id": "view-in-github",
        "colab_type": "text"
      },
      "source": [
        "<a href=\"https://colab.research.google.com/github/ugurklc/Hands-on-ML/blob/main/Ch_10_MNIST_classification.ipynb\" target=\"_parent\"><img src=\"https://colab.research.google.com/assets/colab-badge.svg\" alt=\"Open In Colab\"/></a>"
      ]
    },
    {
      "cell_type": "code",
      "source": [
        "import numpy as np"
      ],
      "metadata": {
        "id": "DKUrgmZ3ezl4"
      },
      "execution_count": 110,
      "outputs": []
    },
    {
      "cell_type": "code",
      "execution_count": 71,
      "metadata": {
        "colab": {
          "base_uri": "https://localhost:8080/",
          "height": 35
        },
        "id": "abz7hEF2mQgz",
        "outputId": "1605c168-ad00-4af5-b115-ecce70eb16e3"
      },
      "outputs": [
        {
          "output_type": "execute_result",
          "data": {
            "text/plain": [
              "'2.8.2'"
            ],
            "application/vnd.google.colaboratory.intrinsic+json": {
              "type": "string"
            }
          },
          "metadata": {},
          "execution_count": 71
        }
      ],
      "source": [
        "import tensorflow as tf\n",
        "tf.__version__"
      ]
    },
    {
      "cell_type": "code",
      "source": [
        "from tensorflow import keras\n",
        "keras.__version__"
      ],
      "metadata": {
        "colab": {
          "base_uri": "https://localhost:8080/",
          "height": 35
        },
        "id": "rwcug6VLmgKC",
        "outputId": "1c3609cc-9d66-406d-d961-3b6c1180e758"
      },
      "execution_count": 72,
      "outputs": [
        {
          "output_type": "execute_result",
          "data": {
            "text/plain": [
              "'2.8.0'"
            ],
            "application/vnd.google.colaboratory.intrinsic+json": {
              "type": "string"
            }
          },
          "metadata": {},
          "execution_count": 72
        }
      ]
    },
    {
      "cell_type": "markdown",
      "source": [
        "# **Build an image classifier using MNIST dataset**"
      ],
      "metadata": {
        "id": "Sx42G4d_oHGp"
      }
    },
    {
      "cell_type": "code",
      "source": [
        "# Load the dataset\n",
        "fashion_mnist = keras.datasets.fashion_mnist"
      ],
      "metadata": {
        "id": "o4j5S1aOnlxV"
      },
      "execution_count": 73,
      "outputs": []
    },
    {
      "cell_type": "code",
      "source": [
        "(X_train_full, y_train_full), (X_test, y_test) = fashion_mnist.load_data()"
      ],
      "metadata": {
        "id": "uS2LxLq6pMFa"
      },
      "execution_count": 74,
      "outputs": []
    },
    {
      "cell_type": "code",
      "source": [
        "# Lets check the datasets dimensions\n",
        "print('X_train_full shape :' , X_train_full.shape)\n",
        "print('y_train_full shape :' , y_train_full.shape)\n",
        "print('X_test shape :' , X_test.shape)\n",
        "print('y_test shape :' , y_test.shape)"
      ],
      "metadata": {
        "colab": {
          "base_uri": "https://localhost:8080/"
        },
        "id": "zBqb8EeVpS5E",
        "outputId": "4743700d-ab45-4eee-b54c-7482454a495f"
      },
      "execution_count": 75,
      "outputs": [
        {
          "output_type": "stream",
          "name": "stdout",
          "text": [
            "X_train_full shape : (60000, 28, 28)\n",
            "y_train_full shape : (60000,)\n",
            "X_test shape : (10000, 28, 28)\n",
            "y_test shape : (10000,)\n"
          ]
        }
      ]
    },
    {
      "cell_type": "code",
      "source": [
        "# Lets see some example images\n",
        "import matplotlib.pyplot as plt\n",
        "\n",
        "some_images = X_train_full[0:18,:,:]\n",
        "\n",
        "fig, axs = plt.subplots(nrows=3, ncols=6, figsize=(12, 8),\n",
        "                        subplot_kw={'xticks': [], 'yticks': []})\n",
        "\n",
        "for i , ax in enumerate(axs.flat):\n",
        "  ax.imshow(some_images[i], cmap='gray_r')\n",
        "\n",
        "plt.tight_layout()\n",
        "plt.show()"
      ],
      "metadata": {
        "colab": {
          "base_uri": "https://localhost:8080/",
          "height": 520
        },
        "id": "437Id7wUpZis",
        "outputId": "23e60455-2290-4411-cb63-c1b7e11ab7fa"
      },
      "execution_count": 76,
      "outputs": [
        {
          "output_type": "display_data",
          "data": {
            "text/plain": [
              "<Figure size 864x576 with 18 Axes>"
            ],
            "image/png": "[encoded data removed]"
          },
          "metadata": {}
        }
      ]
    },
    {
      "cell_type": "markdown",
      "source": [
        "The pixel intensities of the imagesare ranged from 0 to 255. Lets scale them down to 0-1 by dividing them by 255. Gradient descent will work better on the scaled data."
      ],
      "metadata": {
        "id": "LvewwZ0Eue7w"
      }
    },
    {
      "cell_type": "code",
      "source": [
        "X_train_full = X_train_full / 255.0"
      ],
      "metadata": {
        "id": "A-B4ptMjud37"
      },
      "execution_count": 77,
      "outputs": []
    },
    {
      "cell_type": "markdown",
      "source": [
        "By default, the Keras MNIST dataset is loaded as train and test. Split the train set into train and validation set by setting the first 5000 instances as the validation set. "
      ],
      "metadata": {
        "id": "6mzJLk3Tvu__"
      }
    },
    {
      "cell_type": "code",
      "source": [
        "X_valid, X_train = X_train_full[:5000], X_train_full[5000:]\n",
        "y_valid, y_train = y_train_full[:5000], y_train_full[5000:]"
      ],
      "metadata": {
        "id": "tFkkaOIRrqvx"
      },
      "execution_count": 78,
      "outputs": []
    },
    {
      "cell_type": "markdown",
      "source": [
        "Get the class names of the dataset."
      ],
      "metadata": {
        "id": "ejmAUqlpwcNE"
      }
    },
    {
      "cell_type": "code",
      "source": [
        "class_names = ['T-shirt/top',\n",
        "               'Trouser',\n",
        "               'Pullover',\n",
        "               'Dress',\n",
        "               'Coat',\n",
        "               'Sandal',\n",
        "               'Shirt',\n",
        "               'Sneaker',\n",
        "               'Bag',\n",
        "               'Ankle boot']"
      ],
      "metadata": {
        "id": "y5xx_I2Crqys"
      },
      "execution_count": 79,
      "outputs": []
    },
    {
      "cell_type": "code",
      "source": [
        "print(\"The class name '\", class_names[y_train[0]], \"' is represented as \", y_train[0])"
      ],
      "metadata": {
        "colab": {
          "base_uri": "https://localhost:8080/"
        },
        "id": "CWUzVyJKrq1h",
        "outputId": "8b554357-29b3-433c-95e8-a9af0ece47c5"
      },
      "execution_count": 80,
      "outputs": [
        {
          "output_type": "stream",
          "name": "stdout",
          "text": [
            "The class name ' Coat ' is represented as  4\n"
          ]
        }
      ]
    },
    {
      "cell_type": "markdown",
      "source": [
        "Create the model using Keras' sequential API"
      ],
      "metadata": {
        "id": "leO3QtToxfpZ"
      }
    },
    {
      "cell_type": "code",
      "source": [
        "model = keras.models.Sequential([\n",
        "                                 keras.layers.Flatten(input_shape=(28,28)),\n",
        "                                 keras.layers.Dense(300, activation=\"relu\"),\n",
        "                                 keras.layers.Dense(100, activation=\"relu\"),\n",
        "                                 keras.layers.Dense(10, activation=\"softmax\")\n",
        "])"
      ],
      "metadata": {
        "id": "wnkPTXqdrq6A"
      },
      "execution_count": 81,
      "outputs": []
    },
    {
      "cell_type": "code",
      "source": [
        "model.summary()"
      ],
      "metadata": {
        "colab": {
          "base_uri": "https://localhost:8080/"
        },
        "id": "ZhpqT-LMzTft",
        "outputId": "f71d3c45-352a-4006-f792-21fcd6e8d200"
      },
      "execution_count": 82,
      "outputs": [
        {
          "output_type": "stream",
          "name": "stdout",
          "text": [
            "Model: \"sequential_1\"\n",
            "_________________________________________________________________\n",
            " Layer (type)                Output Shape              Param #   \n",
            "=================================================================\n",
            " flatten_1 (Flatten)         (None, 784)               0         \n",
            "                                                                 \n",
            " dense_3 (Dense)             (None, 300)               235500    \n",
            "                                                                 \n",
            " dense_4 (Dense)             (None, 100)               30100     \n",
            "                                                                 \n",
            " dense_5 (Dense)             (None, 10)                1010      \n",
            "                                                                 \n",
            "=================================================================\n",
            "Total params: 266,610\n",
            "Trainable params: 266,610\n",
            "Non-trainable params: 0\n",
            "_________________________________________________________________\n"
          ]
        }
      ]
    },
    {
      "cell_type": "code",
      "source": [
        "keras.utils.plot_model(model)"
      ],
      "metadata": {
        "colab": {
          "base_uri": "https://localhost:8080/",
          "height": 466
        },
        "id": "rcOmYzeVzVVR",
        "outputId": "ee9760bc-bb85-4b75-f956-919651491174"
      },
      "execution_count": 83,
      "outputs": [
        {
          "output_type": "execute_result",
          "data": {
            "text/plain": [
              "<IPython.core.display.Image object>"
            ],
            "image/png": "[encoded data removed]"
          },
          "metadata": {},
          "execution_count": 83
        }
      ]
    },
    {
      "cell_type": "code",
      "source": [
        "model.layers"
      ],
      "metadata": {
        "colab": {
          "base_uri": "https://localhost:8080/"
        },
        "id": "mBl0fumUzkUM",
        "outputId": "a7d4d524-d704-4029-82fc-8f93e8a28aa5"
      },
      "execution_count": 84,
      "outputs": [
        {
          "output_type": "execute_result",
          "data": {
            "text/plain": [
              "[<keras.layers.core.flatten.Flatten at 0x7f177999c7d0>,\n",
              " <keras.layers.core.dense.Dense at 0x7f177999c990>,\n",
              " <keras.layers.core.dense.Dense at 0x7f177999ccd0>,\n",
              " <keras.layers.core.dense.Dense at 0x7f17799e1ed0>]"
            ]
          },
          "metadata": {},
          "execution_count": 84
        }
      ]
    },
    {
      "cell_type": "code",
      "source": [
        "# Check the layer weights and biases\n",
        "weights, biases = model.layers[1].get_weights()\n",
        "weights"
      ],
      "metadata": {
        "colab": {
          "base_uri": "https://localhost:8080/"
        },
        "id": "NaTTLLJ20IWH",
        "outputId": "07a0f087-d040-4940-b469-a0f21ef7a4f1"
      },
      "execution_count": 85,
      "outputs": [
        {
          "output_type": "execute_result",
          "data": {
            "text/plain": [
              "array([[ 0.01894912, -0.06234428,  0.01197869, ..., -0.03362288,\n",
              "        -0.05548789,  0.03051423],\n",
              "       [-0.06361271, -0.06768101,  0.02579878, ...,  0.02631649,\n",
              "         0.03840414, -0.02740601],\n",
              "       [ 0.06534171,  0.07260175, -0.01028811, ..., -0.03607177,\n",
              "        -0.04280096, -0.0526071 ],\n",
              "       ...,\n",
              "       [-0.00208706,  0.02809149, -0.07105149, ...,  0.02938267,\n",
              "        -0.03288539, -0.01616697],\n",
              "       [-0.01399396, -0.02518265, -0.04811783, ...,  0.05996777,\n",
              "        -0.06286079, -0.03818045],\n",
              "       [-0.05380317,  0.046226  ,  0.06358945, ...,  0.04815297,\n",
              "        -0.05583763, -0.01019417]], dtype=float32)"
            ]
          },
          "metadata": {},
          "execution_count": 85
        }
      ]
    },
    {
      "cell_type": "code",
      "source": [
        "biases"
      ],
      "metadata": {
        "colab": {
          "base_uri": "https://localhost:8080/"
        },
        "id": "69vtdl7t0d1X",
        "outputId": "e048666c-0309-41b9-fc2e-7446f2f264d9"
      },
      "execution_count": 86,
      "outputs": [
        {
          "output_type": "execute_result",
          "data": {
            "text/plain": [
              "array([0., 0., 0., 0., 0., 0., 0., 0., 0., 0., 0., 0., 0., 0., 0., 0., 0.,\n",
              "       0., 0., 0., 0., 0., 0., 0., 0., 0., 0., 0., 0., 0., 0., 0., 0., 0.,\n",
              "       0., 0., 0., 0., 0., 0., 0., 0., 0., 0., 0., 0., 0., 0., 0., 0., 0.,\n",
              "       0., 0., 0., 0., 0., 0., 0., 0., 0., 0., 0., 0., 0., 0., 0., 0., 0.,\n",
              "       0., 0., 0., 0., 0., 0., 0., 0., 0., 0., 0., 0., 0., 0., 0., 0., 0.,\n",
              "       0., 0., 0., 0., 0., 0., 0., 0., 0., 0., 0., 0., 0., 0., 0., 0., 0.,\n",
              "       0., 0., 0., 0., 0., 0., 0., 0., 0., 0., 0., 0., 0., 0., 0., 0., 0.,\n",
              "       0., 0., 0., 0., 0., 0., 0., 0., 0., 0., 0., 0., 0., 0., 0., 0., 0.,\n",
              "       0., 0., 0., 0., 0., 0., 0., 0., 0., 0., 0., 0., 0., 0., 0., 0., 0.,\n",
              "       0., 0., 0., 0., 0., 0., 0., 0., 0., 0., 0., 0., 0., 0., 0., 0., 0.,\n",
              "       0., 0., 0., 0., 0., 0., 0., 0., 0., 0., 0., 0., 0., 0., 0., 0., 0.,\n",
              "       0., 0., 0., 0., 0., 0., 0., 0., 0., 0., 0., 0., 0., 0., 0., 0., 0.,\n",
              "       0., 0., 0., 0., 0., 0., 0., 0., 0., 0., 0., 0., 0., 0., 0., 0., 0.,\n",
              "       0., 0., 0., 0., 0., 0., 0., 0., 0., 0., 0., 0., 0., 0., 0., 0., 0.,\n",
              "       0., 0., 0., 0., 0., 0., 0., 0., 0., 0., 0., 0., 0., 0., 0., 0., 0.,\n",
              "       0., 0., 0., 0., 0., 0., 0., 0., 0., 0., 0., 0., 0., 0., 0., 0., 0.,\n",
              "       0., 0., 0., 0., 0., 0., 0., 0., 0., 0., 0., 0., 0., 0., 0., 0., 0.,\n",
              "       0., 0., 0., 0., 0., 0., 0., 0., 0., 0., 0.], dtype=float32)"
            ]
          },
          "metadata": {},
          "execution_count": 86
        }
      ]
    },
    {
      "cell_type": "code",
      "source": [
        "print(\"Shape of the weights:\", weights.shape)\n",
        "print(\"Shape of the biases:\", biases.shape)"
      ],
      "metadata": {
        "colab": {
          "base_uri": "https://localhost:8080/"
        },
        "id": "dZYkjjnr0iro",
        "outputId": "57e463b4-72c6-4a4b-84b8-65b7831246a6"
      },
      "execution_count": 87,
      "outputs": [
        {
          "output_type": "stream",
          "name": "stdout",
          "text": [
            "Shape of the weights: (784, 300)\n",
            "Shape of the biases: (300,)\n"
          ]
        }
      ]
    },
    {
      "cell_type": "code",
      "source": [
        "# Compile the model\n",
        "model.compile(\n",
        "    optimizer = 'sgd',\n",
        "    loss = 'sparse_categorical_crossentropy',\n",
        "    metrics = ['accuracy']\n",
        ")"
      ],
      "metadata": {
        "id": "_Ka8imwh07K_"
      },
      "execution_count": 88,
      "outputs": []
    },
    {
      "cell_type": "code",
      "source": [
        "# Train the model\n",
        "model.fit(\n",
        "    X_train,\n",
        "    y_train,\n",
        "    epochs = 30,\n",
        "    validation_data = (X_valid, y_valid)\n",
        ")"
      ],
      "metadata": {
        "colab": {
          "base_uri": "https://localhost:8080/"
        },
        "id": "KBG-DmVFPKpu",
        "outputId": "1d80b390-aaac-4bf0-c745-7783919a2564"
      },
      "execution_count": 104,
      "outputs": [
        {
          "output_type": "stream",
          "name": "stdout",
          "text": [
            "Epoch 1/30\n",
            "1719/1719 [==============================] - 7s 4ms/step - loss: 0.2213 - accuracy: 0.9208 - val_loss: 0.2861 - val_accuracy: 0.8988\n",
            "Epoch 2/30\n",
            "1719/1719 [==============================] - 7s 4ms/step - loss: 0.2170 - accuracy: 0.9222 - val_loss: 0.3059 - val_accuracy: 0.8902\n",
            "Epoch 3/30\n",
            "1719/1719 [==============================] - 6s 4ms/step - loss: 0.2140 - accuracy: 0.9236 - val_loss: 0.2890 - val_accuracy: 0.8948\n",
            "Epoch 4/30\n",
            "1719/1719 [==============================] - 6s 4ms/step - loss: 0.2113 - accuracy: 0.9245 - val_loss: 0.2890 - val_accuracy: 0.8942\n",
            "Epoch 5/30\n",
            "1719/1719 [==============================] - 6s 4ms/step - loss: 0.2084 - accuracy: 0.9253 - val_loss: 0.3024 - val_accuracy: 0.8908\n",
            "Epoch 6/30\n",
            "1719/1719 [==============================] - 7s 4ms/step - loss: 0.2043 - accuracy: 0.9266 - val_loss: 0.2954 - val_accuracy: 0.8954\n",
            "Epoch 7/30\n",
            "1719/1719 [==============================] - 6s 4ms/step - loss: 0.2006 - accuracy: 0.9276 - val_loss: 0.2868 - val_accuracy: 0.8974\n",
            "Epoch 8/30\n",
            "1719/1719 [==============================] - 6s 4ms/step - loss: 0.1985 - accuracy: 0.9290 - val_loss: 0.2924 - val_accuracy: 0.8954\n",
            "Epoch 9/30\n",
            "1719/1719 [==============================] - 6s 4ms/step - loss: 0.1945 - accuracy: 0.9304 - val_loss: 0.3179 - val_accuracy: 0.8864\n",
            "Epoch 10/30\n",
            "1719/1719 [==============================] - 6s 4ms/step - loss: 0.1921 - accuracy: 0.9308 - val_loss: 0.3027 - val_accuracy: 0.8912\n",
            "Epoch 11/30\n",
            "1719/1719 [==============================] - 7s 4ms/step - loss: 0.1878 - accuracy: 0.9329 - val_loss: 0.2938 - val_accuracy: 0.8950\n",
            "Epoch 12/30\n",
            "1719/1719 [==============================] - 8s 4ms/step - loss: 0.1848 - accuracy: 0.9350 - val_loss: 0.2864 - val_accuracy: 0.8966\n",
            "Epoch 13/30\n",
            "1719/1719 [==============================] - 6s 4ms/step - loss: 0.1810 - accuracy: 0.9355 - val_loss: 0.2963 - val_accuracy: 0.8910\n",
            "Epoch 14/30\n",
            "1719/1719 [==============================] - 6s 4ms/step - loss: 0.1801 - accuracy: 0.9348 - val_loss: 0.2931 - val_accuracy: 0.8946\n",
            "Epoch 15/30\n",
            "1719/1719 [==============================] - 6s 4ms/step - loss: 0.1768 - accuracy: 0.9366 - val_loss: 0.2912 - val_accuracy: 0.9000\n",
            "Epoch 16/30\n",
            "1719/1719 [==============================] - 6s 4ms/step - loss: 0.1727 - accuracy: 0.9380 - val_loss: 0.3164 - val_accuracy: 0.8902\n",
            "Epoch 17/30\n",
            "1719/1719 [==============================] - 6s 4ms/step - loss: 0.1711 - accuracy: 0.9396 - val_loss: 0.2872 - val_accuracy: 0.8964\n",
            "Epoch 18/30\n",
            "1719/1719 [==============================] - 6s 4ms/step - loss: 0.1679 - accuracy: 0.9406 - val_loss: 0.3103 - val_accuracy: 0.8948\n",
            "Epoch 19/30\n",
            "1719/1719 [==============================] - 7s 4ms/step - loss: 0.1637 - accuracy: 0.9418 - val_loss: 0.3051 - val_accuracy: 0.8970\n",
            "Epoch 20/30\n",
            "1719/1719 [==============================] - 7s 4ms/step - loss: 0.1615 - accuracy: 0.9437 - val_loss: 0.2916 - val_accuracy: 0.8978\n",
            "Epoch 21/30\n",
            "1719/1719 [==============================] - 6s 4ms/step - loss: 0.1592 - accuracy: 0.9442 - val_loss: 0.3043 - val_accuracy: 0.8930\n",
            "Epoch 22/30\n",
            "1719/1719 [==============================] - 7s 4ms/step - loss: 0.1574 - accuracy: 0.9442 - val_loss: 0.3175 - val_accuracy: 0.8944\n",
            "Epoch 23/30\n",
            "1719/1719 [==============================] - 6s 4ms/step - loss: 0.1554 - accuracy: 0.9460 - val_loss: 0.2950 - val_accuracy: 0.8966\n",
            "Epoch 24/30\n",
            "1719/1719 [==============================] - 6s 4ms/step - loss: 0.1525 - accuracy: 0.9455 - val_loss: 0.3203 - val_accuracy: 0.8920\n",
            "Epoch 25/30\n",
            "1719/1719 [==============================] - 7s 4ms/step - loss: 0.1499 - accuracy: 0.9469 - val_loss: 0.3114 - val_accuracy: 0.8946\n",
            "Epoch 26/30\n",
            "1719/1719 [==============================] - 7s 4ms/step - loss: 0.1463 - accuracy: 0.9487 - val_loss: 0.3171 - val_accuracy: 0.8940\n",
            "Epoch 27/30\n",
            "1719/1719 [==============================] - 6s 4ms/step - loss: 0.1445 - accuracy: 0.9496 - val_loss: 0.3189 - val_accuracy: 0.8870\n",
            "Epoch 28/30\n",
            "1719/1719 [==============================] - 6s 4ms/step - loss: 0.1423 - accuracy: 0.9489 - val_loss: 0.3087 - val_accuracy: 0.8962\n",
            "Epoch 29/30\n",
            "1719/1719 [==============================] - 7s 4ms/step - loss: 0.1411 - accuracy: 0.9492 - val_loss: 0.3068 - val_accuracy: 0.8998\n",
            "Epoch 30/30\n",
            "1719/1719 [==============================] - 7s 4ms/step - loss: 0.1389 - accuracy: 0.9508 - val_loss: 0.3239 - val_accuracy: 0.8908\n"
          ]
        },
        {
          "output_type": "execute_result",
          "data": {
            "text/plain": [
              "<keras.callbacks.History at 0x7f1778f14a50>"
            ]
          },
          "metadata": {},
          "execution_count": 104
        }
      ]
    },
    {
      "cell_type": "code",
      "source": [
        "import pandas as pd\n",
        "\n",
        "history = pd.DataFrame(model.history.history)"
      ],
      "metadata": {
        "id": "MlWezR6SPcc0"
      },
      "execution_count": 94,
      "outputs": []
    },
    {
      "cell_type": "code",
      "source": [
        "history.plot(figsize=(9,6))"
      ],
      "metadata": {
        "colab": {
          "base_uri": "https://localhost:8080/",
          "height": 391
        },
        "id": "FBkv1HRvRXBz",
        "outputId": "a039462b-ad78-48ca-e369-3eeeb9f15ae3"
      },
      "execution_count": 102,
      "outputs": [
        {
          "output_type": "execute_result",
          "data": {
            "text/plain": [
              "<matplotlib.axes._subplots.AxesSubplot at 0x7f17790b3790>"
            ]
          },
          "metadata": {},
          "execution_count": 102
        },
        {
          "output_type": "display_data",
          "data": {
            "text/plain": [
              "<Figure size 648x432 with 1 Axes>"
            ],
            "image/png": "[encoded data removed]"
          },
          "metadata": {
            "needs_background": "light"
          }
        }
      ]
    },
    {
      "cell_type": "code",
      "source": [
        "# Evaluate the model\n",
        "model.evaluate(X_test, y_test)"
      ],
      "metadata": {
        "colab": {
          "base_uri": "https://localhost:8080/"
        },
        "id": "Evybnmy0ReXn",
        "outputId": "673288f6-1769-481c-a1e3-868b6d98d69a"
      },
      "execution_count": 103,
      "outputs": [
        {
          "output_type": "stream",
          "name": "stdout",
          "text": [
            "313/313 [==============================] - 1s 3ms/step - loss: 75.3439 - accuracy: 0.8356\n"
          ]
        },
        {
          "output_type": "execute_result",
          "data": {
            "text/plain": [
              "[75.34390258789062, 0.8356000185012817]"
            ]
          },
          "metadata": {},
          "execution_count": 103
        }
      ]
    },
    {
      "cell_type": "markdown",
      "source": [
        "Now, use the model to make predictions. "
      ],
      "metadata": {
        "id": "-MP5l31LdTqj"
      }
    },
    {
      "cell_type": "code",
      "source": [
        "# predict method gives the probabilities of each class\n",
        "X_new = X_test[:3]\n",
        "y_proba = model.predict(X_new)\n",
        "y_proba.round(2)"
      ],
      "metadata": {
        "colab": {
          "base_uri": "https://localhost:8080/"
        },
        "id": "wnNOGIYJRgQ5",
        "outputId": "858df880-06e6-4208-8cb0-6be1ed02a633"
      },
      "execution_count": 107,
      "outputs": [
        {
          "output_type": "execute_result",
          "data": {
            "text/plain": [
              "array([[0., 0., 0., 0., 0., 0., 0., 0., 0., 1.],\n",
              "       [0., 0., 1., 0., 0., 0., 0., 0., 0., 0.],\n",
              "       [0., 1., 0., 0., 0., 0., 0., 0., 0., 0.]], dtype=float32)"
            ]
          },
          "metadata": {},
          "execution_count": 107
        }
      ]
    },
    {
      "cell_type": "code",
      "source": [
        "# predict_classes() method directly gives the class with the highest probability\n",
        "\n",
        "y_pred = np.argmax(model.predict(X_new), axis=1)\n",
        "y_pred"
      ],
      "metadata": {
        "colab": {
          "base_uri": "https://localhost:8080/"
        },
        "id": "NNJVLGEidkCR",
        "outputId": "24f7780d-4915-49f4-83fe-d17efd0962ea"
      },
      "execution_count": 111,
      "outputs": [
        {
          "output_type": "execute_result",
          "data": {
            "text/plain": [
              "array([9, 2, 1])"
            ]
          },
          "metadata": {},
          "execution_count": 111
        }
      ]
    },
    {
      "cell_type": "code",
      "source": [
        "np.array(class_names)[y_pred]"
      ],
      "metadata": {
        "colab": {
          "base_uri": "https://localhost:8080/"
        },
        "id": "_CJgH8jGeOjk",
        "outputId": "3c9f2cd3-c800-42b2-9dc9-9c7ff25fabd0"
      },
      "execution_count": 117,
      "outputs": [
        {
          "output_type": "execute_result",
          "data": {
            "text/plain": [
              "array(['Ankle boot', 'Pullover', 'Trouser'], dtype='<U11')"
            ]
          },
          "metadata": {},
          "execution_count": 117
        }
      ]
    },
    {
      "cell_type": "code",
      "source": [
        "fig, axs = plt.subplots(1,3, figsize=(9,4),\n",
        "                        subplot_kw={'xticks': [], 'yticks': []})\n",
        "\n",
        "actual_images = X_test[:3]\n",
        "\n",
        "for i, ax in enumerate(axs.flat):\n",
        "  ax.imshow(actual_images[i], cmap='gray_r')\n",
        "\n",
        "plt.tight_layout()\n",
        "plt.show()"
      ],
      "metadata": {
        "colab": {
          "base_uri": "https://localhost:8080/",
          "height": 233
        },
        "id": "6YQFUoLMe-gb",
        "outputId": "bfdc755a-862b-4e7c-ee3f-c7f24fa9e21f"
      },
      "execution_count": 123,
      "outputs": [
        {
          "output_type": "display_data",
          "data": {
            "text/plain": [
              "<Figure size 648x288 with 3 Axes>"
            ],
            "image/png": "[encoded data removed]"
          },
          "metadata": {}
        }
      ]
    },
    {
      "cell_type": "markdown",
      "source": [
        "In this case, all three predictions are correct"
      ],
      "metadata": {
        "id": "tsPuZ3-EgZ3f"
      }
    },
    {
      "cell_type": "code",
      "source": [
        ""
      ],
      "metadata": {
        "id": "7ZYo3WczgdwY"
      },
      "execution_count": null,
      "outputs": []
    }
  ]
}